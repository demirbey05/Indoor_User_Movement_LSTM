{
  "nbformat": 4,
  "nbformat_minor": 0,
  "metadata": {
    "colab": {
      "name": "Indoor_User_Movement_by_LSTM.ipynb",
      "provenance": [],
      "collapsed_sections": []
    },
    "kernelspec": {
      "name": "python3",
      "display_name": "Python 3"
    },
    "accelerator": "TPU"
  },
  "cells": [
    {
      "cell_type": "code",
      "metadata": {
        "id": "5n9-QOsihJh9"
      },
      "source": [
        "import torch\n",
        "import torch.nn as nn\n",
        "import matplotlib.pyplot as plt\n",
        "import pandas as pd\n",
        "from torch.nn.utils.rnn import pack_sequence\n",
        "import numpy as np"
      ],
      "execution_count": null,
      "outputs": []
    },
    {
      "cell_type": "code",
      "metadata": {
        "id": "0k3EQj9wqpYX",
        "colab": {
          "base_uri": "https://localhost:8080/",
          "height": 119
        },
        "outputId": "bc29b7a0-2d0e-4fe5-cc1d-348ef98cfdad"
      },
      "source": [
        "!wget https://archive.ics.uci.edu/ml/machine-learning-databases/00348/MovementAAL.zip"
      ],
      "execution_count": null,
      "outputs": [
        {
          "output_type": "stream",
          "text": [
            "--2020-04-07 12:19:51--  https://archive.ics.uci.edu/ml/machine-learning-databases/00348/MovementAAL.zip\n",
            "Resolving archive.ics.uci.edu (archive.ics.uci.edu)... 128.195.10.252\n",
            "Connecting to archive.ics.uci.edu (archive.ics.uci.edu)|128.195.10.252|:443... connected.\n",
            "ERROR: cannot verify archive.ics.uci.edu's certificate, issued by ‘CN=InCommon RSA Server CA,OU=InCommon,O=Internet2,L=Ann Arbor,ST=MI,C=US’:\n",
            "  Issued certificate has expired.\n",
            "To connect to archive.ics.uci.edu insecurely, use `--no-check-certificate'.\n"
          ],
          "name": "stdout"
        }
      ]
    },
    {
      "cell_type": "code",
      "metadata": {
        "id": "_VhCJ5gxqvjq",
        "colab": {
          "base_uri": "https://localhost:8080/",
          "height": 1000
        },
        "outputId": "99ec94e0-3439-40d9-e392-a40688a5a1fd"
      },
      "source": [
        "!unzip MovementAAL.zip "
      ],
      "execution_count": null,
      "outputs": [
        {
          "output_type": "stream",
          "text": [
            "Archive:  MovementAAL.zip\n",
            "   creating: MovementAAL/\n",
            "  inflating: MovementAAL/dataset_description.txt  \n",
            "  inflating: MovementAAL/MovementAAL.jpg  \n",
            "  inflating: MovementAAL/README.txt  \n",
            "   creating: MovementAAL/dataset/\n",
            "  inflating: MovementAAL/dataset/MovementAAL_RSS_1.csv  \n",
            "  inflating: MovementAAL/dataset/MovementAAL_RSS_10.csv  \n",
            "  inflating: MovementAAL/dataset/MovementAAL_RSS_100.csv  \n",
            "  inflating: MovementAAL/dataset/MovementAAL_RSS_101.csv  \n",
            "  inflating: MovementAAL/dataset/MovementAAL_RSS_102.csv  \n",
            "  inflating: MovementAAL/dataset/MovementAAL_RSS_103.csv  \n",
            "  inflating: MovementAAL/dataset/MovementAAL_RSS_104.csv  \n",
            "  inflating: MovementAAL/dataset/MovementAAL_RSS_105.csv  \n",
            "  inflating: MovementAAL/dataset/MovementAAL_RSS_106.csv  \n",
            "  inflating: MovementAAL/dataset/MovementAAL_RSS_107.csv  \n",
            "  inflating: MovementAAL/dataset/MovementAAL_RSS_108.csv  \n",
            "  inflating: MovementAAL/dataset/MovementAAL_RSS_109.csv  \n",
            "  inflating: MovementAAL/dataset/MovementAAL_RSS_11.csv  \n",
            "  inflating: MovementAAL/dataset/MovementAAL_RSS_110.csv  \n",
            "  inflating: MovementAAL/dataset/MovementAAL_RSS_111.csv  \n",
            "  inflating: MovementAAL/dataset/MovementAAL_RSS_112.csv  \n",
            "  inflating: MovementAAL/dataset/MovementAAL_RSS_113.csv  \n",
            "  inflating: MovementAAL/dataset/MovementAAL_RSS_114.csv  \n",
            "  inflating: MovementAAL/dataset/MovementAAL_RSS_115.csv  \n",
            "  inflating: MovementAAL/dataset/MovementAAL_RSS_116.csv  \n",
            "  inflating: MovementAAL/dataset/MovementAAL_RSS_117.csv  \n",
            "  inflating: MovementAAL/dataset/MovementAAL_RSS_118.csv  \n",
            "  inflating: MovementAAL/dataset/MovementAAL_RSS_119.csv  \n",
            "  inflating: MovementAAL/dataset/MovementAAL_RSS_12.csv  \n",
            "  inflating: MovementAAL/dataset/MovementAAL_RSS_120.csv  \n",
            "  inflating: MovementAAL/dataset/MovementAAL_RSS_121.csv  \n",
            "  inflating: MovementAAL/dataset/MovementAAL_RSS_122.csv  \n",
            "  inflating: MovementAAL/dataset/MovementAAL_RSS_123.csv  \n",
            "  inflating: MovementAAL/dataset/MovementAAL_RSS_124.csv  \n",
            "  inflating: MovementAAL/dataset/MovementAAL_RSS_125.csv  \n",
            "  inflating: MovementAAL/dataset/MovementAAL_RSS_126.csv  \n",
            "  inflating: MovementAAL/dataset/MovementAAL_RSS_127.csv  \n",
            "  inflating: MovementAAL/dataset/MovementAAL_RSS_128.csv  \n",
            "  inflating: MovementAAL/dataset/MovementAAL_RSS_129.csv  \n",
            "  inflating: MovementAAL/dataset/MovementAAL_RSS_13.csv  \n",
            "  inflating: MovementAAL/dataset/MovementAAL_RSS_130.csv  \n",
            "  inflating: MovementAAL/dataset/MovementAAL_RSS_131.csv  \n",
            "  inflating: MovementAAL/dataset/MovementAAL_RSS_132.csv  \n",
            "  inflating: MovementAAL/dataset/MovementAAL_RSS_133.csv  \n",
            "  inflating: MovementAAL/dataset/MovementAAL_RSS_134.csv  \n",
            "  inflating: MovementAAL/dataset/MovementAAL_RSS_135.csv  \n",
            "  inflating: MovementAAL/dataset/MovementAAL_RSS_136.csv  \n",
            "  inflating: MovementAAL/dataset/MovementAAL_RSS_137.csv  \n",
            "  inflating: MovementAAL/dataset/MovementAAL_RSS_138.csv  \n",
            "  inflating: MovementAAL/dataset/MovementAAL_RSS_139.csv  \n",
            "  inflating: MovementAAL/dataset/MovementAAL_RSS_14.csv  \n",
            "  inflating: MovementAAL/dataset/MovementAAL_RSS_140.csv  \n",
            "  inflating: MovementAAL/dataset/MovementAAL_RSS_141.csv  \n",
            "  inflating: MovementAAL/dataset/MovementAAL_RSS_142.csv  \n",
            "  inflating: MovementAAL/dataset/MovementAAL_RSS_143.csv  \n",
            "  inflating: MovementAAL/dataset/MovementAAL_RSS_144.csv  \n",
            "  inflating: MovementAAL/dataset/MovementAAL_RSS_145.csv  \n",
            "  inflating: MovementAAL/dataset/MovementAAL_RSS_146.csv  \n",
            "  inflating: MovementAAL/dataset/MovementAAL_RSS_147.csv  \n",
            "  inflating: MovementAAL/dataset/MovementAAL_RSS_148.csv  \n",
            "  inflating: MovementAAL/dataset/MovementAAL_RSS_149.csv  \n",
            "  inflating: MovementAAL/dataset/MovementAAL_RSS_15.csv  \n",
            "  inflating: MovementAAL/dataset/MovementAAL_RSS_150.csv  \n",
            "  inflating: MovementAAL/dataset/MovementAAL_RSS_151.csv  \n",
            "  inflating: MovementAAL/dataset/MovementAAL_RSS_152.csv  \n",
            "  inflating: MovementAAL/dataset/MovementAAL_RSS_153.csv  \n",
            "  inflating: MovementAAL/dataset/MovementAAL_RSS_154.csv  \n",
            "  inflating: MovementAAL/dataset/MovementAAL_RSS_155.csv  \n",
            "  inflating: MovementAAL/dataset/MovementAAL_RSS_156.csv  \n",
            "  inflating: MovementAAL/dataset/MovementAAL_RSS_157.csv  \n",
            "  inflating: MovementAAL/dataset/MovementAAL_RSS_158.csv  \n",
            "  inflating: MovementAAL/dataset/MovementAAL_RSS_159.csv  \n",
            "  inflating: MovementAAL/dataset/MovementAAL_RSS_16.csv  \n",
            "  inflating: MovementAAL/dataset/MovementAAL_RSS_160.csv  \n",
            "  inflating: MovementAAL/dataset/MovementAAL_RSS_161.csv  \n",
            "  inflating: MovementAAL/dataset/MovementAAL_RSS_162.csv  \n",
            "  inflating: MovementAAL/dataset/MovementAAL_RSS_163.csv  \n",
            "  inflating: MovementAAL/dataset/MovementAAL_RSS_164.csv  \n",
            "  inflating: MovementAAL/dataset/MovementAAL_RSS_165.csv  \n",
            "  inflating: MovementAAL/dataset/MovementAAL_RSS_166.csv  \n",
            "  inflating: MovementAAL/dataset/MovementAAL_RSS_167.csv  \n",
            "  inflating: MovementAAL/dataset/MovementAAL_RSS_168.csv  \n",
            "  inflating: MovementAAL/dataset/MovementAAL_RSS_169.csv  \n",
            "  inflating: MovementAAL/dataset/MovementAAL_RSS_17.csv  \n",
            "  inflating: MovementAAL/dataset/MovementAAL_RSS_170.csv  \n",
            "  inflating: MovementAAL/dataset/MovementAAL_RSS_171.csv  \n",
            "  inflating: MovementAAL/dataset/MovementAAL_RSS_172.csv  \n",
            "  inflating: MovementAAL/dataset/MovementAAL_RSS_173.csv  \n",
            "  inflating: MovementAAL/dataset/MovementAAL_RSS_174.csv  \n",
            "  inflating: MovementAAL/dataset/MovementAAL_RSS_175.csv  \n",
            "  inflating: MovementAAL/dataset/MovementAAL_RSS_176.csv  \n",
            "  inflating: MovementAAL/dataset/MovementAAL_RSS_177.csv  \n",
            "  inflating: MovementAAL/dataset/MovementAAL_RSS_178.csv  \n",
            "  inflating: MovementAAL/dataset/MovementAAL_RSS_179.csv  \n",
            "  inflating: MovementAAL/dataset/MovementAAL_RSS_18.csv  \n",
            "  inflating: MovementAAL/dataset/MovementAAL_RSS_180.csv  \n",
            "  inflating: MovementAAL/dataset/MovementAAL_RSS_181.csv  \n",
            "  inflating: MovementAAL/dataset/MovementAAL_RSS_182.csv  \n",
            "  inflating: MovementAAL/dataset/MovementAAL_RSS_183.csv  \n",
            "  inflating: MovementAAL/dataset/MovementAAL_RSS_184.csv  \n",
            "  inflating: MovementAAL/dataset/MovementAAL_RSS_185.csv  \n",
            "  inflating: MovementAAL/dataset/MovementAAL_RSS_186.csv  \n",
            "  inflating: MovementAAL/dataset/MovementAAL_RSS_187.csv  \n",
            "  inflating: MovementAAL/dataset/MovementAAL_RSS_188.csv  \n",
            "  inflating: MovementAAL/dataset/MovementAAL_RSS_189.csv  \n",
            "  inflating: MovementAAL/dataset/MovementAAL_RSS_19.csv  \n",
            "  inflating: MovementAAL/dataset/MovementAAL_RSS_190.csv  \n",
            "  inflating: MovementAAL/dataset/MovementAAL_RSS_191.csv  \n",
            "  inflating: MovementAAL/dataset/MovementAAL_RSS_192.csv  \n",
            "  inflating: MovementAAL/dataset/MovementAAL_RSS_193.csv  \n",
            "  inflating: MovementAAL/dataset/MovementAAL_RSS_194.csv  \n",
            "  inflating: MovementAAL/dataset/MovementAAL_RSS_195.csv  \n",
            "  inflating: MovementAAL/dataset/MovementAAL_RSS_196.csv  \n",
            "  inflating: MovementAAL/dataset/MovementAAL_RSS_197.csv  \n",
            "  inflating: MovementAAL/dataset/MovementAAL_RSS_198.csv  \n",
            "  inflating: MovementAAL/dataset/MovementAAL_RSS_199.csv  \n",
            "  inflating: MovementAAL/dataset/MovementAAL_RSS_2.csv  \n",
            "  inflating: MovementAAL/dataset/MovementAAL_RSS_20.csv  \n",
            "  inflating: MovementAAL/dataset/MovementAAL_RSS_200.csv  \n",
            "  inflating: MovementAAL/dataset/MovementAAL_RSS_201.csv  \n",
            "  inflating: MovementAAL/dataset/MovementAAL_RSS_202.csv  \n",
            "  inflating: MovementAAL/dataset/MovementAAL_RSS_203.csv  \n",
            "  inflating: MovementAAL/dataset/MovementAAL_RSS_204.csv  \n",
            "  inflating: MovementAAL/dataset/MovementAAL_RSS_205.csv  \n",
            "  inflating: MovementAAL/dataset/MovementAAL_RSS_206.csv  \n",
            "  inflating: MovementAAL/dataset/MovementAAL_RSS_207.csv  \n",
            "  inflating: MovementAAL/dataset/MovementAAL_RSS_208.csv  \n",
            "  inflating: MovementAAL/dataset/MovementAAL_RSS_209.csv  \n",
            "  inflating: MovementAAL/dataset/MovementAAL_RSS_21.csv  \n",
            "  inflating: MovementAAL/dataset/MovementAAL_RSS_210.csv  \n",
            "  inflating: MovementAAL/dataset/MovementAAL_RSS_211.csv  \n",
            "  inflating: MovementAAL/dataset/MovementAAL_RSS_212.csv  \n",
            "  inflating: MovementAAL/dataset/MovementAAL_RSS_213.csv  \n",
            "  inflating: MovementAAL/dataset/MovementAAL_RSS_214.csv  \n",
            "  inflating: MovementAAL/dataset/MovementAAL_RSS_215.csv  \n",
            "  inflating: MovementAAL/dataset/MovementAAL_RSS_216.csv  \n",
            "  inflating: MovementAAL/dataset/MovementAAL_RSS_217.csv  \n",
            "  inflating: MovementAAL/dataset/MovementAAL_RSS_218.csv  \n",
            "  inflating: MovementAAL/dataset/MovementAAL_RSS_219.csv  \n",
            "  inflating: MovementAAL/dataset/MovementAAL_RSS_22.csv  \n",
            "  inflating: MovementAAL/dataset/MovementAAL_RSS_220.csv  \n",
            "  inflating: MovementAAL/dataset/MovementAAL_RSS_221.csv  \n",
            "  inflating: MovementAAL/dataset/MovementAAL_RSS_222.csv  \n",
            "  inflating: MovementAAL/dataset/MovementAAL_RSS_223.csv  \n",
            "  inflating: MovementAAL/dataset/MovementAAL_RSS_224.csv  \n",
            "  inflating: MovementAAL/dataset/MovementAAL_RSS_225.csv  \n",
            "  inflating: MovementAAL/dataset/MovementAAL_RSS_226.csv  \n",
            "  inflating: MovementAAL/dataset/MovementAAL_RSS_227.csv  \n",
            "  inflating: MovementAAL/dataset/MovementAAL_RSS_228.csv  \n",
            "  inflating: MovementAAL/dataset/MovementAAL_RSS_229.csv  \n",
            "  inflating: MovementAAL/dataset/MovementAAL_RSS_23.csv  \n",
            "  inflating: MovementAAL/dataset/MovementAAL_RSS_230.csv  \n",
            "  inflating: MovementAAL/dataset/MovementAAL_RSS_231.csv  \n",
            "  inflating: MovementAAL/dataset/MovementAAL_RSS_232.csv  \n",
            "  inflating: MovementAAL/dataset/MovementAAL_RSS_233.csv  \n",
            "  inflating: MovementAAL/dataset/MovementAAL_RSS_234.csv  \n",
            "  inflating: MovementAAL/dataset/MovementAAL_RSS_235.csv  \n",
            "  inflating: MovementAAL/dataset/MovementAAL_RSS_236.csv  \n",
            "  inflating: MovementAAL/dataset/MovementAAL_RSS_237.csv  \n",
            "  inflating: MovementAAL/dataset/MovementAAL_RSS_238.csv  \n",
            "  inflating: MovementAAL/dataset/MovementAAL_RSS_239.csv  \n",
            "  inflating: MovementAAL/dataset/MovementAAL_RSS_24.csv  \n",
            "  inflating: MovementAAL/dataset/MovementAAL_RSS_240.csv  \n",
            "  inflating: MovementAAL/dataset/MovementAAL_RSS_241.csv  \n",
            "  inflating: MovementAAL/dataset/MovementAAL_RSS_242.csv  \n",
            "  inflating: MovementAAL/dataset/MovementAAL_RSS_243.csv  \n",
            "  inflating: MovementAAL/dataset/MovementAAL_RSS_244.csv  \n",
            "  inflating: MovementAAL/dataset/MovementAAL_RSS_245.csv  \n",
            "  inflating: MovementAAL/dataset/MovementAAL_RSS_246.csv  \n",
            "  inflating: MovementAAL/dataset/MovementAAL_RSS_247.csv  \n",
            "  inflating: MovementAAL/dataset/MovementAAL_RSS_248.csv  \n",
            "  inflating: MovementAAL/dataset/MovementAAL_RSS_249.csv  \n",
            "  inflating: MovementAAL/dataset/MovementAAL_RSS_25.csv  \n",
            "  inflating: MovementAAL/dataset/MovementAAL_RSS_250.csv  \n",
            "  inflating: MovementAAL/dataset/MovementAAL_RSS_251.csv  \n",
            "  inflating: MovementAAL/dataset/MovementAAL_RSS_252.csv  \n",
            "  inflating: MovementAAL/dataset/MovementAAL_RSS_253.csv  \n",
            "  inflating: MovementAAL/dataset/MovementAAL_RSS_254.csv  \n",
            "  inflating: MovementAAL/dataset/MovementAAL_RSS_255.csv  \n",
            "  inflating: MovementAAL/dataset/MovementAAL_RSS_256.csv  \n",
            "  inflating: MovementAAL/dataset/MovementAAL_RSS_257.csv  \n",
            "  inflating: MovementAAL/dataset/MovementAAL_RSS_258.csv  \n",
            "  inflating: MovementAAL/dataset/MovementAAL_RSS_259.csv  \n",
            "  inflating: MovementAAL/dataset/MovementAAL_RSS_26.csv  \n",
            "  inflating: MovementAAL/dataset/MovementAAL_RSS_260.csv  \n",
            "  inflating: MovementAAL/dataset/MovementAAL_RSS_261.csv  \n",
            "  inflating: MovementAAL/dataset/MovementAAL_RSS_262.csv  \n",
            "  inflating: MovementAAL/dataset/MovementAAL_RSS_263.csv  \n",
            "  inflating: MovementAAL/dataset/MovementAAL_RSS_264.csv  \n",
            "  inflating: MovementAAL/dataset/MovementAAL_RSS_265.csv  \n",
            "  inflating: MovementAAL/dataset/MovementAAL_RSS_266.csv  \n",
            "  inflating: MovementAAL/dataset/MovementAAL_RSS_267.csv  \n",
            "  inflating: MovementAAL/dataset/MovementAAL_RSS_268.csv  \n",
            "  inflating: MovementAAL/dataset/MovementAAL_RSS_269.csv  \n",
            "  inflating: MovementAAL/dataset/MovementAAL_RSS_27.csv  \n",
            "  inflating: MovementAAL/dataset/MovementAAL_RSS_270.csv  \n",
            "  inflating: MovementAAL/dataset/MovementAAL_RSS_271.csv  \n",
            "  inflating: MovementAAL/dataset/MovementAAL_RSS_272.csv  \n",
            "  inflating: MovementAAL/dataset/MovementAAL_RSS_273.csv  \n",
            "  inflating: MovementAAL/dataset/MovementAAL_RSS_274.csv  \n",
            "  inflating: MovementAAL/dataset/MovementAAL_RSS_275.csv  \n",
            "  inflating: MovementAAL/dataset/MovementAAL_RSS_276.csv  \n",
            "  inflating: MovementAAL/dataset/MovementAAL_RSS_277.csv  \n",
            "  inflating: MovementAAL/dataset/MovementAAL_RSS_278.csv  \n",
            "  inflating: MovementAAL/dataset/MovementAAL_RSS_279.csv  \n",
            "  inflating: MovementAAL/dataset/MovementAAL_RSS_28.csv  \n",
            "  inflating: MovementAAL/dataset/MovementAAL_RSS_280.csv  \n",
            "  inflating: MovementAAL/dataset/MovementAAL_RSS_281.csv  \n",
            "  inflating: MovementAAL/dataset/MovementAAL_RSS_282.csv  \n",
            "  inflating: MovementAAL/dataset/MovementAAL_RSS_283.csv  \n",
            "  inflating: MovementAAL/dataset/MovementAAL_RSS_284.csv  \n",
            "  inflating: MovementAAL/dataset/MovementAAL_RSS_285.csv  \n",
            "  inflating: MovementAAL/dataset/MovementAAL_RSS_286.csv  \n",
            "  inflating: MovementAAL/dataset/MovementAAL_RSS_287.csv  \n",
            "  inflating: MovementAAL/dataset/MovementAAL_RSS_288.csv  \n",
            "  inflating: MovementAAL/dataset/MovementAAL_RSS_289.csv  \n",
            "  inflating: MovementAAL/dataset/MovementAAL_RSS_29.csv  \n",
            "  inflating: MovementAAL/dataset/MovementAAL_RSS_290.csv  \n",
            "  inflating: MovementAAL/dataset/MovementAAL_RSS_291.csv  \n",
            "  inflating: MovementAAL/dataset/MovementAAL_RSS_292.csv  \n",
            "  inflating: MovementAAL/dataset/MovementAAL_RSS_293.csv  \n",
            "  inflating: MovementAAL/dataset/MovementAAL_RSS_294.csv  \n",
            "  inflating: MovementAAL/dataset/MovementAAL_RSS_295.csv  \n",
            "  inflating: MovementAAL/dataset/MovementAAL_RSS_296.csv  \n",
            "  inflating: MovementAAL/dataset/MovementAAL_RSS_297.csv  \n",
            "  inflating: MovementAAL/dataset/MovementAAL_RSS_298.csv  \n",
            "  inflating: MovementAAL/dataset/MovementAAL_RSS_299.csv  \n",
            "  inflating: MovementAAL/dataset/MovementAAL_RSS_3.csv  \n",
            "  inflating: MovementAAL/dataset/MovementAAL_RSS_30.csv  \n",
            "  inflating: MovementAAL/dataset/MovementAAL_RSS_300.csv  \n",
            "  inflating: MovementAAL/dataset/MovementAAL_RSS_301.csv  \n",
            "  inflating: MovementAAL/dataset/MovementAAL_RSS_302.csv  \n",
            "  inflating: MovementAAL/dataset/MovementAAL_RSS_303.csv  \n",
            "  inflating: MovementAAL/dataset/MovementAAL_RSS_304.csv  \n",
            "  inflating: MovementAAL/dataset/MovementAAL_RSS_305.csv  \n",
            "  inflating: MovementAAL/dataset/MovementAAL_RSS_306.csv  \n",
            "  inflating: MovementAAL/dataset/MovementAAL_RSS_307.csv  \n",
            "  inflating: MovementAAL/dataset/MovementAAL_RSS_308.csv  \n",
            "  inflating: MovementAAL/dataset/MovementAAL_RSS_309.csv  \n",
            "  inflating: MovementAAL/dataset/MovementAAL_RSS_31.csv  \n",
            "  inflating: MovementAAL/dataset/MovementAAL_RSS_310.csv  \n",
            "  inflating: MovementAAL/dataset/MovementAAL_RSS_311.csv  \n",
            "  inflating: MovementAAL/dataset/MovementAAL_RSS_312.csv  \n",
            "  inflating: MovementAAL/dataset/MovementAAL_RSS_313.csv  \n",
            "  inflating: MovementAAL/dataset/MovementAAL_RSS_314.csv  \n",
            "  inflating: MovementAAL/dataset/MovementAAL_RSS_32.csv  \n",
            "  inflating: MovementAAL/dataset/MovementAAL_RSS_33.csv  \n",
            "  inflating: MovementAAL/dataset/MovementAAL_RSS_34.csv  \n",
            "  inflating: MovementAAL/dataset/MovementAAL_RSS_35.csv  \n",
            "  inflating: MovementAAL/dataset/MovementAAL_RSS_36.csv  \n",
            "  inflating: MovementAAL/dataset/MovementAAL_RSS_37.csv  \n",
            "  inflating: MovementAAL/dataset/MovementAAL_RSS_38.csv  \n",
            "  inflating: MovementAAL/dataset/MovementAAL_RSS_39.csv  \n",
            "  inflating: MovementAAL/dataset/MovementAAL_RSS_4.csv  \n",
            "  inflating: MovementAAL/dataset/MovementAAL_RSS_40.csv  \n",
            "  inflating: MovementAAL/dataset/MovementAAL_RSS_41.csv  \n",
            "  inflating: MovementAAL/dataset/MovementAAL_RSS_42.csv  \n",
            "  inflating: MovementAAL/dataset/MovementAAL_RSS_43.csv  \n",
            "  inflating: MovementAAL/dataset/MovementAAL_RSS_44.csv  \n",
            "  inflating: MovementAAL/dataset/MovementAAL_RSS_45.csv  \n",
            "  inflating: MovementAAL/dataset/MovementAAL_RSS_46.csv  \n",
            "  inflating: MovementAAL/dataset/MovementAAL_RSS_47.csv  \n",
            "  inflating: MovementAAL/dataset/MovementAAL_RSS_48.csv  \n",
            "  inflating: MovementAAL/dataset/MovementAAL_RSS_49.csv  \n",
            "  inflating: MovementAAL/dataset/MovementAAL_RSS_5.csv  \n",
            "  inflating: MovementAAL/dataset/MovementAAL_RSS_50.csv  \n",
            "  inflating: MovementAAL/dataset/MovementAAL_RSS_51.csv  \n",
            "  inflating: MovementAAL/dataset/MovementAAL_RSS_52.csv  \n",
            "  inflating: MovementAAL/dataset/MovementAAL_RSS_53.csv  \n",
            "  inflating: MovementAAL/dataset/MovementAAL_RSS_54.csv  \n",
            "  inflating: MovementAAL/dataset/MovementAAL_RSS_55.csv  \n",
            "  inflating: MovementAAL/dataset/MovementAAL_RSS_56.csv  \n",
            "  inflating: MovementAAL/dataset/MovementAAL_RSS_57.csv  \n",
            "  inflating: MovementAAL/dataset/MovementAAL_RSS_58.csv  \n",
            "  inflating: MovementAAL/dataset/MovementAAL_RSS_59.csv  \n",
            "  inflating: MovementAAL/dataset/MovementAAL_RSS_6.csv  \n",
            "  inflating: MovementAAL/dataset/MovementAAL_RSS_60.csv  \n",
            "  inflating: MovementAAL/dataset/MovementAAL_RSS_61.csv  \n",
            "  inflating: MovementAAL/dataset/MovementAAL_RSS_62.csv  \n",
            "  inflating: MovementAAL/dataset/MovementAAL_RSS_63.csv  \n",
            "  inflating: MovementAAL/dataset/MovementAAL_RSS_64.csv  \n",
            "  inflating: MovementAAL/dataset/MovementAAL_RSS_65.csv  \n",
            "  inflating: MovementAAL/dataset/MovementAAL_RSS_66.csv  \n",
            "  inflating: MovementAAL/dataset/MovementAAL_RSS_67.csv  \n",
            "  inflating: MovementAAL/dataset/MovementAAL_RSS_68.csv  \n",
            "  inflating: MovementAAL/dataset/MovementAAL_RSS_69.csv  \n",
            "  inflating: MovementAAL/dataset/MovementAAL_RSS_7.csv  \n",
            "  inflating: MovementAAL/dataset/MovementAAL_RSS_70.csv  \n",
            "  inflating: MovementAAL/dataset/MovementAAL_RSS_71.csv  \n",
            "  inflating: MovementAAL/dataset/MovementAAL_RSS_72.csv  \n",
            "  inflating: MovementAAL/dataset/MovementAAL_RSS_73.csv  \n",
            "  inflating: MovementAAL/dataset/MovementAAL_RSS_74.csv  \n",
            "  inflating: MovementAAL/dataset/MovementAAL_RSS_75.csv  \n",
            "  inflating: MovementAAL/dataset/MovementAAL_RSS_76.csv  \n",
            "  inflating: MovementAAL/dataset/MovementAAL_RSS_77.csv  \n",
            "  inflating: MovementAAL/dataset/MovementAAL_RSS_78.csv  \n",
            "  inflating: MovementAAL/dataset/MovementAAL_RSS_79.csv  \n",
            "  inflating: MovementAAL/dataset/MovementAAL_RSS_8.csv  \n",
            "  inflating: MovementAAL/dataset/MovementAAL_RSS_80.csv  \n",
            "  inflating: MovementAAL/dataset/MovementAAL_RSS_81.csv  \n",
            "  inflating: MovementAAL/dataset/MovementAAL_RSS_82.csv  \n",
            "  inflating: MovementAAL/dataset/MovementAAL_RSS_83.csv  \n",
            "  inflating: MovementAAL/dataset/MovementAAL_RSS_84.csv  \n",
            "  inflating: MovementAAL/dataset/MovementAAL_RSS_85.csv  \n",
            "  inflating: MovementAAL/dataset/MovementAAL_RSS_86.csv  \n",
            "  inflating: MovementAAL/dataset/MovementAAL_RSS_87.csv  \n",
            "  inflating: MovementAAL/dataset/MovementAAL_RSS_88.csv  \n",
            "  inflating: MovementAAL/dataset/MovementAAL_RSS_89.csv  \n",
            "  inflating: MovementAAL/dataset/MovementAAL_RSS_9.csv  \n",
            "  inflating: MovementAAL/dataset/MovementAAL_RSS_90.csv  \n",
            "  inflating: MovementAAL/dataset/MovementAAL_RSS_91.csv  \n",
            "  inflating: MovementAAL/dataset/MovementAAL_RSS_92.csv  \n",
            "  inflating: MovementAAL/dataset/MovementAAL_RSS_93.csv  \n",
            "  inflating: MovementAAL/dataset/MovementAAL_RSS_94.csv  \n",
            "  inflating: MovementAAL/dataset/MovementAAL_RSS_95.csv  \n",
            "  inflating: MovementAAL/dataset/MovementAAL_RSS_96.csv  \n",
            "  inflating: MovementAAL/dataset/MovementAAL_RSS_97.csv  \n",
            "  inflating: MovementAAL/dataset/MovementAAL_RSS_98.csv  \n",
            "  inflating: MovementAAL/dataset/MovementAAL_RSS_99.csv  \n",
            "  inflating: MovementAAL/dataset/MovementAAL_target.csv  \n",
            "   creating: MovementAAL/groups/\n",
            "  inflating: MovementAAL/groups/MovementAAL_DatasetGroup.csv  \n",
            "  inflating: MovementAAL/groups/MovementAAL_Paths.csv  \n"
          ],
          "name": "stdout"
        }
      ]
    },
    {
      "cell_type": "code",
      "metadata": {
        "id": "woGFcg1cqycO"
      },
      "source": [
        "sequences = [torch.tensor(pd.read_csv(\"MovementAAL/dataset/MovementAAL_RSS_\"+str(i)+\".csv\").values) for i in range(1,315)]"
      ],
      "execution_count": null,
      "outputs": []
    },
    {
      "cell_type": "code",
      "metadata": {
        "id": "YiXPAhwIrtje",
        "colab": {
          "base_uri": "https://localhost:8080/",
          "height": 34
        },
        "outputId": "98b351b3-c6de-48b9-a980-60f78292af56"
      },
      "source": [
        "len(sequences)"
      ],
      "execution_count": null,
      "outputs": [
        {
          "output_type": "execute_result",
          "data": {
            "text/plain": [
              "314"
            ]
          },
          "metadata": {
            "tags": []
          },
          "execution_count": 5
        }
      ]
    },
    {
      "cell_type": "code",
      "metadata": {
        "id": "IVsneTyfsA35"
      },
      "source": [
        "targets = torch.tensor(pd.read_csv(\"MovementAAL/dataset/MovementAAL_target.csv\").values)[:,1]"
      ],
      "execution_count": null,
      "outputs": []
    },
    {
      "cell_type": "code",
      "metadata": {
        "id": "wzcCnzYXsOxE"
      },
      "source": [
        "seq_sizes = []\n",
        "for one_seq in sequences:\n",
        "  seq_sizes.append(one_seq.size()[0])\n"
      ],
      "execution_count": null,
      "outputs": []
    },
    {
      "cell_type": "code",
      "metadata": {
        "id": "sJZ1ezv7wkUQ",
        "colab": {
          "base_uri": "https://localhost:8080/",
          "height": 34
        },
        "outputId": "6322e888-c052-4731-d788-d558c392699d"
      },
      "source": [
        "sequences[5][-1].size()"
      ],
      "execution_count": null,
      "outputs": [
        {
          "output_type": "execute_result",
          "data": {
            "text/plain": [
              "torch.Size([4])"
            ]
          },
          "metadata": {
            "tags": []
          },
          "execution_count": 8
        }
      ]
    },
    {
      "cell_type": "code",
      "metadata": {
        "id": "kt_K1PScsfIq"
      },
      "source": [
        "new_seq = []\n",
        "for one_seq in sequences:\n",
        "  n = 129 - one_seq.size()[0]\n",
        "  last_= one_seq[-1]\n",
        "  temp = last_.repeat(n,1)\n",
        "  new_ = torch.cat((one_seq,temp))\n",
        "  new_ = new_.unsqueeze(0).permute(1,0,2)\n",
        "  new_seq.append(new_)\n",
        "  "
      ],
      "execution_count": null,
      "outputs": []
    },
    {
      "cell_type": "code",
      "metadata": {
        "id": "8WzovO5ZtIFc",
        "colab": {
          "base_uri": "https://localhost:8080/",
          "height": 34
        },
        "outputId": "4e81bceb-34a9-4242-a0c9-e0b39a2a3a6d"
      },
      "source": [
        "len(new_seq)\n"
      ],
      "execution_count": null,
      "outputs": [
        {
          "output_type": "execute_result",
          "data": {
            "text/plain": [
              "314"
            ]
          },
          "metadata": {
            "tags": []
          },
          "execution_count": 10
        }
      ]
    },
    {
      "cell_type": "code",
      "metadata": {
        "id": "__lYVcJA0jy3",
        "colab": {
          "base_uri": "https://localhost:8080/",
          "height": 1000
        },
        "outputId": "346cdb43-179e-49d3-d968-f0aece1fc998"
      },
      "source": [
        "for one_seq in new_seq:\n",
        "  print(one_seq.size())"
      ],
      "execution_count": null,
      "outputs": [
        {
          "output_type": "stream",
          "text": [
            "torch.Size([129, 1, 4])\n",
            "torch.Size([129, 1, 4])\n",
            "torch.Size([129, 1, 4])\n",
            "torch.Size([129, 1, 4])\n",
            "torch.Size([129, 1, 4])\n",
            "torch.Size([129, 1, 4])\n",
            "torch.Size([129, 1, 4])\n",
            "torch.Size([129, 1, 4])\n",
            "torch.Size([129, 1, 4])\n",
            "torch.Size([129, 1, 4])\n",
            "torch.Size([129, 1, 4])\n",
            "torch.Size([129, 1, 4])\n",
            "torch.Size([129, 1, 4])\n",
            "torch.Size([129, 1, 4])\n",
            "torch.Size([129, 1, 4])\n",
            "torch.Size([129, 1, 4])\n",
            "torch.Size([129, 1, 4])\n",
            "torch.Size([129, 1, 4])\n",
            "torch.Size([129, 1, 4])\n",
            "torch.Size([129, 1, 4])\n",
            "torch.Size([129, 1, 4])\n",
            "torch.Size([129, 1, 4])\n",
            "torch.Size([129, 1, 4])\n",
            "torch.Size([129, 1, 4])\n",
            "torch.Size([129, 1, 4])\n",
            "torch.Size([129, 1, 4])\n",
            "torch.Size([129, 1, 4])\n",
            "torch.Size([129, 1, 4])\n",
            "torch.Size([129, 1, 4])\n",
            "torch.Size([129, 1, 4])\n",
            "torch.Size([129, 1, 4])\n",
            "torch.Size([129, 1, 4])\n",
            "torch.Size([129, 1, 4])\n",
            "torch.Size([129, 1, 4])\n",
            "torch.Size([129, 1, 4])\n",
            "torch.Size([129, 1, 4])\n",
            "torch.Size([129, 1, 4])\n",
            "torch.Size([129, 1, 4])\n",
            "torch.Size([129, 1, 4])\n",
            "torch.Size([129, 1, 4])\n",
            "torch.Size([129, 1, 4])\n",
            "torch.Size([129, 1, 4])\n",
            "torch.Size([129, 1, 4])\n",
            "torch.Size([129, 1, 4])\n",
            "torch.Size([129, 1, 4])\n",
            "torch.Size([129, 1, 4])\n",
            "torch.Size([129, 1, 4])\n",
            "torch.Size([129, 1, 4])\n",
            "torch.Size([129, 1, 4])\n",
            "torch.Size([129, 1, 4])\n",
            "torch.Size([129, 1, 4])\n",
            "torch.Size([129, 1, 4])\n",
            "torch.Size([129, 1, 4])\n",
            "torch.Size([129, 1, 4])\n",
            "torch.Size([129, 1, 4])\n",
            "torch.Size([129, 1, 4])\n",
            "torch.Size([129, 1, 4])\n",
            "torch.Size([129, 1, 4])\n",
            "torch.Size([129, 1, 4])\n",
            "torch.Size([129, 1, 4])\n",
            "torch.Size([129, 1, 4])\n",
            "torch.Size([129, 1, 4])\n",
            "torch.Size([129, 1, 4])\n",
            "torch.Size([129, 1, 4])\n",
            "torch.Size([129, 1, 4])\n",
            "torch.Size([129, 1, 4])\n",
            "torch.Size([129, 1, 4])\n",
            "torch.Size([129, 1, 4])\n",
            "torch.Size([129, 1, 4])\n",
            "torch.Size([129, 1, 4])\n",
            "torch.Size([129, 1, 4])\n",
            "torch.Size([129, 1, 4])\n",
            "torch.Size([129, 1, 4])\n",
            "torch.Size([129, 1, 4])\n",
            "torch.Size([129, 1, 4])\n",
            "torch.Size([129, 1, 4])\n",
            "torch.Size([129, 1, 4])\n",
            "torch.Size([129, 1, 4])\n",
            "torch.Size([129, 1, 4])\n",
            "torch.Size([129, 1, 4])\n",
            "torch.Size([129, 1, 4])\n",
            "torch.Size([129, 1, 4])\n",
            "torch.Size([129, 1, 4])\n",
            "torch.Size([129, 1, 4])\n",
            "torch.Size([129, 1, 4])\n",
            "torch.Size([129, 1, 4])\n",
            "torch.Size([129, 1, 4])\n",
            "torch.Size([129, 1, 4])\n",
            "torch.Size([129, 1, 4])\n",
            "torch.Size([129, 1, 4])\n",
            "torch.Size([129, 1, 4])\n",
            "torch.Size([129, 1, 4])\n",
            "torch.Size([129, 1, 4])\n",
            "torch.Size([129, 1, 4])\n",
            "torch.Size([129, 1, 4])\n",
            "torch.Size([129, 1, 4])\n",
            "torch.Size([129, 1, 4])\n",
            "torch.Size([129, 1, 4])\n",
            "torch.Size([129, 1, 4])\n",
            "torch.Size([129, 1, 4])\n",
            "torch.Size([129, 1, 4])\n",
            "torch.Size([129, 1, 4])\n",
            "torch.Size([129, 1, 4])\n",
            "torch.Size([129, 1, 4])\n",
            "torch.Size([129, 1, 4])\n",
            "torch.Size([129, 1, 4])\n",
            "torch.Size([129, 1, 4])\n",
            "torch.Size([129, 1, 4])\n",
            "torch.Size([129, 1, 4])\n",
            "torch.Size([129, 1, 4])\n",
            "torch.Size([129, 1, 4])\n",
            "torch.Size([129, 1, 4])\n",
            "torch.Size([129, 1, 4])\n",
            "torch.Size([129, 1, 4])\n",
            "torch.Size([129, 1, 4])\n",
            "torch.Size([129, 1, 4])\n",
            "torch.Size([129, 1, 4])\n",
            "torch.Size([129, 1, 4])\n",
            "torch.Size([129, 1, 4])\n",
            "torch.Size([129, 1, 4])\n",
            "torch.Size([129, 1, 4])\n",
            "torch.Size([129, 1, 4])\n",
            "torch.Size([129, 1, 4])\n",
            "torch.Size([129, 1, 4])\n",
            "torch.Size([129, 1, 4])\n",
            "torch.Size([129, 1, 4])\n",
            "torch.Size([129, 1, 4])\n",
            "torch.Size([129, 1, 4])\n",
            "torch.Size([129, 1, 4])\n",
            "torch.Size([129, 1, 4])\n",
            "torch.Size([129, 1, 4])\n",
            "torch.Size([129, 1, 4])\n",
            "torch.Size([129, 1, 4])\n",
            "torch.Size([129, 1, 4])\n",
            "torch.Size([129, 1, 4])\n",
            "torch.Size([129, 1, 4])\n",
            "torch.Size([129, 1, 4])\n",
            "torch.Size([129, 1, 4])\n",
            "torch.Size([129, 1, 4])\n",
            "torch.Size([129, 1, 4])\n",
            "torch.Size([129, 1, 4])\n",
            "torch.Size([129, 1, 4])\n",
            "torch.Size([129, 1, 4])\n",
            "torch.Size([129, 1, 4])\n",
            "torch.Size([129, 1, 4])\n",
            "torch.Size([129, 1, 4])\n",
            "torch.Size([129, 1, 4])\n",
            "torch.Size([129, 1, 4])\n",
            "torch.Size([129, 1, 4])\n",
            "torch.Size([129, 1, 4])\n",
            "torch.Size([129, 1, 4])\n",
            "torch.Size([129, 1, 4])\n",
            "torch.Size([129, 1, 4])\n",
            "torch.Size([129, 1, 4])\n",
            "torch.Size([129, 1, 4])\n",
            "torch.Size([129, 1, 4])\n",
            "torch.Size([129, 1, 4])\n",
            "torch.Size([129, 1, 4])\n",
            "torch.Size([129, 1, 4])\n",
            "torch.Size([129, 1, 4])\n",
            "torch.Size([129, 1, 4])\n",
            "torch.Size([129, 1, 4])\n",
            "torch.Size([129, 1, 4])\n",
            "torch.Size([129, 1, 4])\n",
            "torch.Size([129, 1, 4])\n",
            "torch.Size([129, 1, 4])\n",
            "torch.Size([129, 1, 4])\n",
            "torch.Size([129, 1, 4])\n",
            "torch.Size([129, 1, 4])\n",
            "torch.Size([129, 1, 4])\n",
            "torch.Size([129, 1, 4])\n",
            "torch.Size([129, 1, 4])\n",
            "torch.Size([129, 1, 4])\n",
            "torch.Size([129, 1, 4])\n",
            "torch.Size([129, 1, 4])\n",
            "torch.Size([129, 1, 4])\n",
            "torch.Size([129, 1, 4])\n",
            "torch.Size([129, 1, 4])\n",
            "torch.Size([129, 1, 4])\n",
            "torch.Size([129, 1, 4])\n",
            "torch.Size([129, 1, 4])\n",
            "torch.Size([129, 1, 4])\n",
            "torch.Size([129, 1, 4])\n",
            "torch.Size([129, 1, 4])\n",
            "torch.Size([129, 1, 4])\n",
            "torch.Size([129, 1, 4])\n",
            "torch.Size([129, 1, 4])\n",
            "torch.Size([129, 1, 4])\n",
            "torch.Size([129, 1, 4])\n",
            "torch.Size([129, 1, 4])\n",
            "torch.Size([129, 1, 4])\n",
            "torch.Size([129, 1, 4])\n",
            "torch.Size([129, 1, 4])\n",
            "torch.Size([129, 1, 4])\n",
            "torch.Size([129, 1, 4])\n",
            "torch.Size([129, 1, 4])\n",
            "torch.Size([129, 1, 4])\n",
            "torch.Size([129, 1, 4])\n",
            "torch.Size([129, 1, 4])\n",
            "torch.Size([129, 1, 4])\n",
            "torch.Size([129, 1, 4])\n",
            "torch.Size([129, 1, 4])\n",
            "torch.Size([129, 1, 4])\n",
            "torch.Size([129, 1, 4])\n",
            "torch.Size([129, 1, 4])\n",
            "torch.Size([129, 1, 4])\n",
            "torch.Size([129, 1, 4])\n",
            "torch.Size([129, 1, 4])\n",
            "torch.Size([129, 1, 4])\n",
            "torch.Size([129, 1, 4])\n",
            "torch.Size([129, 1, 4])\n",
            "torch.Size([129, 1, 4])\n",
            "torch.Size([129, 1, 4])\n",
            "torch.Size([129, 1, 4])\n",
            "torch.Size([129, 1, 4])\n",
            "torch.Size([129, 1, 4])\n",
            "torch.Size([129, 1, 4])\n",
            "torch.Size([129, 1, 4])\n",
            "torch.Size([129, 1, 4])\n",
            "torch.Size([129, 1, 4])\n",
            "torch.Size([129, 1, 4])\n",
            "torch.Size([129, 1, 4])\n",
            "torch.Size([129, 1, 4])\n",
            "torch.Size([129, 1, 4])\n",
            "torch.Size([129, 1, 4])\n",
            "torch.Size([129, 1, 4])\n",
            "torch.Size([129, 1, 4])\n",
            "torch.Size([129, 1, 4])\n",
            "torch.Size([129, 1, 4])\n",
            "torch.Size([129, 1, 4])\n",
            "torch.Size([129, 1, 4])\n",
            "torch.Size([129, 1, 4])\n",
            "torch.Size([129, 1, 4])\n",
            "torch.Size([129, 1, 4])\n",
            "torch.Size([129, 1, 4])\n",
            "torch.Size([129, 1, 4])\n",
            "torch.Size([129, 1, 4])\n",
            "torch.Size([129, 1, 4])\n",
            "torch.Size([129, 1, 4])\n",
            "torch.Size([129, 1, 4])\n",
            "torch.Size([129, 1, 4])\n",
            "torch.Size([129, 1, 4])\n",
            "torch.Size([129, 1, 4])\n",
            "torch.Size([129, 1, 4])\n",
            "torch.Size([129, 1, 4])\n",
            "torch.Size([129, 1, 4])\n",
            "torch.Size([129, 1, 4])\n",
            "torch.Size([129, 1, 4])\n",
            "torch.Size([129, 1, 4])\n",
            "torch.Size([129, 1, 4])\n",
            "torch.Size([129, 1, 4])\n",
            "torch.Size([129, 1, 4])\n",
            "torch.Size([129, 1, 4])\n",
            "torch.Size([129, 1, 4])\n",
            "torch.Size([129, 1, 4])\n",
            "torch.Size([129, 1, 4])\n",
            "torch.Size([129, 1, 4])\n",
            "torch.Size([129, 1, 4])\n",
            "torch.Size([129, 1, 4])\n",
            "torch.Size([129, 1, 4])\n",
            "torch.Size([129, 1, 4])\n",
            "torch.Size([129, 1, 4])\n",
            "torch.Size([129, 1, 4])\n",
            "torch.Size([129, 1, 4])\n",
            "torch.Size([129, 1, 4])\n",
            "torch.Size([129, 1, 4])\n",
            "torch.Size([129, 1, 4])\n",
            "torch.Size([129, 1, 4])\n",
            "torch.Size([129, 1, 4])\n",
            "torch.Size([129, 1, 4])\n",
            "torch.Size([129, 1, 4])\n",
            "torch.Size([129, 1, 4])\n",
            "torch.Size([129, 1, 4])\n",
            "torch.Size([129, 1, 4])\n",
            "torch.Size([129, 1, 4])\n",
            "torch.Size([129, 1, 4])\n",
            "torch.Size([129, 1, 4])\n",
            "torch.Size([129, 1, 4])\n",
            "torch.Size([129, 1, 4])\n",
            "torch.Size([129, 1, 4])\n",
            "torch.Size([129, 1, 4])\n",
            "torch.Size([129, 1, 4])\n",
            "torch.Size([129, 1, 4])\n",
            "torch.Size([129, 1, 4])\n",
            "torch.Size([129, 1, 4])\n",
            "torch.Size([129, 1, 4])\n",
            "torch.Size([129, 1, 4])\n",
            "torch.Size([129, 1, 4])\n",
            "torch.Size([129, 1, 4])\n",
            "torch.Size([129, 1, 4])\n",
            "torch.Size([129, 1, 4])\n",
            "torch.Size([129, 1, 4])\n",
            "torch.Size([129, 1, 4])\n",
            "torch.Size([129, 1, 4])\n",
            "torch.Size([129, 1, 4])\n",
            "torch.Size([129, 1, 4])\n",
            "torch.Size([129, 1, 4])\n",
            "torch.Size([129, 1, 4])\n",
            "torch.Size([129, 1, 4])\n",
            "torch.Size([129, 1, 4])\n",
            "torch.Size([129, 1, 4])\n",
            "torch.Size([129, 1, 4])\n",
            "torch.Size([129, 1, 4])\n",
            "torch.Size([129, 1, 4])\n",
            "torch.Size([129, 1, 4])\n",
            "torch.Size([129, 1, 4])\n",
            "torch.Size([129, 1, 4])\n",
            "torch.Size([129, 1, 4])\n",
            "torch.Size([129, 1, 4])\n",
            "torch.Size([129, 1, 4])\n",
            "torch.Size([129, 1, 4])\n",
            "torch.Size([129, 1, 4])\n",
            "torch.Size([129, 1, 4])\n",
            "torch.Size([129, 1, 4])\n"
          ],
          "name": "stdout"
        }
      ]
    },
    {
      "cell_type": "code",
      "metadata": {
        "id": "cFRCUwnkd7Js",
        "colab": {
          "base_uri": "https://localhost:8080/",
          "height": 34
        },
        "outputId": "609a5528-1fc0-416e-aae9-2c787a5ca8b1"
      },
      "source": [
        "acc_tens = torch.stack(new_seq,dim = 1).squeeze()\n",
        "print(acc_tens.size())\n",
        "new_seq_1 = acc_tens"
      ],
      "execution_count": null,
      "outputs": [
        {
          "output_type": "stream",
          "text": [
            "torch.Size([129, 314, 4])\n"
          ],
          "name": "stdout"
        }
      ]
    },
    {
      "cell_type": "code",
      "metadata": {
        "id": "wiXcU5gt5CiV"
      },
      "source": [
        "x_train = new_seq_1[:,0:157,:]\n",
        "x_test = new_seq_1[:,157:314,:]\n",
        "\n",
        "y_train = targets[0:157]\n",
        "y_test = targets[157:314]\n",
        "\n",
        "#x_train = pack_sequence(x_train)\n",
        "#y_train = pack_sequence(y_train)\n",
        "\n",
        "#x_test = pack_sequence(x_test)\n",
        "#y_test = pack_sequence(y_test)"
      ],
      "execution_count": null,
      "outputs": []
    },
    {
      "cell_type": "code",
      "metadata": {
        "id": "pdJ3MQhcBpbk"
      },
      "source": [
        "for i in range(0,157):\n",
        "  if y_train[i] == -1:\n",
        "    y_train[i] = 0\n",
        "\n",
        "for t in range(0,157):\n",
        "  if y_test[t] == -1:\n",
        "    y_test[t] = 0\n"
      ],
      "execution_count": null,
      "outputs": []
    },
    {
      "cell_type": "code",
      "metadata": {
        "id": "iFZmUUoZB5i7",
        "colab": {
          "base_uri": "https://localhost:8080/",
          "height": 136
        },
        "outputId": "2a47a417-a1ba-4fc5-d3e1-8e356df21a83"
      },
      "source": [
        "y_test"
      ],
      "execution_count": null,
      "outputs": [
        {
          "output_type": "execute_result",
          "data": {
            "text/plain": [
              "tensor([0, 0, 0, 0, 0, 0, 0, 0, 0, 0, 0, 0, 0, 1, 1, 1, 1, 1, 1, 1, 1, 1, 1, 1,\n",
              "        1, 1, 1, 1, 1, 1, 1, 1, 1, 1, 1, 1, 1, 1, 1, 0, 0, 0, 0, 0, 0, 0, 0, 0,\n",
              "        0, 0, 0, 0, 0, 1, 1, 1, 1, 1, 1, 1, 1, 1, 1, 1, 1, 1, 1, 1, 1, 1, 1, 1,\n",
              "        1, 1, 1, 1, 1, 1, 1, 1, 0, 0, 0, 0, 0, 0, 0, 0, 0, 0, 0, 0, 0, 0, 0, 0,\n",
              "        0, 0, 0, 0, 0, 0, 0, 0, 0, 0, 0, 0, 0, 0, 0, 0, 0, 0, 0, 0, 0, 1, 1, 1,\n",
              "        1, 1, 1, 1, 1, 1, 1, 1, 1, 1, 1, 1, 1, 1, 1, 1, 1, 1, 1, 1, 1, 1, 1, 1,\n",
              "        0, 0, 0, 0, 0, 0, 0, 0, 0, 0, 0, 0, 0])"
            ]
          },
          "metadata": {
            "tags": []
          },
          "execution_count": 15
        }
      ]
    },
    {
      "cell_type": "code",
      "metadata": {
        "id": "dKeGt-8H6_mL",
        "colab": {
          "base_uri": "https://localhost:8080/",
          "height": 34
        },
        "outputId": "791a8e6a-d15e-441a-88a2-46aacbacc821"
      },
      "source": [
        "y_train.size()"
      ],
      "execution_count": null,
      "outputs": [
        {
          "output_type": "execute_result",
          "data": {
            "text/plain": [
              "torch.Size([157])"
            ]
          },
          "metadata": {
            "tags": []
          },
          "execution_count": 16
        }
      ]
    },
    {
      "cell_type": "code",
      "metadata": {
        "id": "ubx94CJJgv5W",
        "colab": {
          "base_uri": "https://localhost:8080/",
          "height": 51
        },
        "outputId": "de1ab061-3e12-4bf5-9b07-3f76c2daeb8e"
      },
      "source": [
        "x_test.size()\n",
        "print(type(x_train))\n",
        "print(type(torch.randn(5, 3, 10)))"
      ],
      "execution_count": null,
      "outputs": [
        {
          "output_type": "stream",
          "text": [
            "<class 'torch.Tensor'>\n",
            "<class 'torch.Tensor'>\n"
          ],
          "name": "stdout"
        }
      ]
    },
    {
      "cell_type": "code",
      "metadata": {
        "id": "aybfdDMEgGIE"
      },
      "source": [
        "class LSTM(nn.Module):\n",
        "  def __init__(self,input_size ,hidden_size,num_layers,batch_size,bias):\n",
        "    super(LSTM, self).__init__()\n",
        "    self.input_size = input_size\n",
        "    self.hidden_size = hidden_size\n",
        "    self.num_layers = num_layers\n",
        "    self.bias = bias\n",
        "    self.batch_size = batch_size\n",
        "\n",
        "    self.lstm = nn.LSTM(self.input_size,self.hidden_size,self.num_layers,bias,dropout = 0.8)\n",
        "    self.logsoftmax = torch.nn.LogSoftmax(dim=None)\n",
        "\n",
        "  def forward(self,x):\n",
        "    h0 = torch.zeros(self.num_layers,self.batch_size,self.hidden_size)\n",
        "    c0 = torch.zeros(self.num_layers,self.batch_size,self.hidden_size)\n",
        "    lstm_out,(hn,cn) = self.lstm(x.float(),(h0, c0))\n",
        "    y_pred = self.logsoftmax(lstm_out[-1,:,:])\n",
        "    return y_pred\n"
      ],
      "execution_count": null,
      "outputs": []
    },
    {
      "cell_type": "code",
      "metadata": {
        "id": "kBMfbR1snHOy"
      },
      "source": [
        "model = LSTM(4,2,2,157,bias= True)\n",
        "#y_pred = model(x_train)\n",
        "#print(type(y_pred))\n",
        "\n",
        "criterion = torch.nn.NLLLoss()\n",
        "optimiser = torch.optim.Adam(model.parameters(), lr=1e-3)"
      ],
      "execution_count": null,
      "outputs": []
    },
    {
      "cell_type": "code",
      "metadata": {
        "id": "Gm1riPVP6AT5",
        "colab": {
          "base_uri": "https://localhost:8080/",
          "height": 1000
        },
        "outputId": "5ff4c14c-0002-46ae-cd7f-f904f3e78252"
      },
      "source": [
        "hist = np.zeros(3001)\n",
        " \n",
        "for t in range(3001):\n",
        "    # Clear stored gradient\n",
        "    model.zero_grad()\n",
        "\n",
        "    # Forward pass\n",
        "    y_pred = model(x_train)\n",
        " \n",
        "    loss_ = criterion(y_pred, y_train)\n",
        "    if t % 100 == 0:\n",
        "        print(\"Epoch \", t, \"NLL: \", loss_.item())\n",
        "        print(y_pred.size())\n",
        "    hist[t] = loss_.item()\n",
        " \n",
        "    # Zero out gradient, else they will accumulate between epochs\n",
        "    optimiser.zero_grad()\n",
        " \n",
        "    # Backward pass\n",
        "    loss_.backward()\n",
        " \n",
        "    # Update parameters\n",
        "    optimiser.step()"
      ],
      "execution_count": null,
      "outputs": [
        {
          "output_type": "stream",
          "text": [
            "/usr/local/lib/python3.6/dist-packages/ipykernel_launcher.py:17: UserWarning: Implicit dimension choice for log_softmax has been deprecated. Change the call to include dim=X as an argument.\n"
          ],
          "name": "stderr"
        },
        {
          "output_type": "stream",
          "text": [
            "Epoch  0 NLL:  0.7039210200309753\n",
            "torch.Size([157, 2])\n",
            "Epoch  100 NLL:  0.6896592378616333\n",
            "torch.Size([157, 2])\n",
            "Epoch  200 NLL:  0.689054548740387\n",
            "torch.Size([157, 2])\n",
            "Epoch  300 NLL:  0.6234197020530701\n",
            "torch.Size([157, 2])\n",
            "Epoch  400 NLL:  0.5892671942710876\n",
            "torch.Size([157, 2])\n",
            "Epoch  500 NLL:  0.5743503570556641\n",
            "torch.Size([157, 2])\n",
            "Epoch  600 NLL:  0.561551570892334\n",
            "torch.Size([157, 2])\n",
            "Epoch  700 NLL:  0.5545893311500549\n",
            "torch.Size([157, 2])\n",
            "Epoch  800 NLL:  0.5537806749343872\n",
            "torch.Size([157, 2])\n",
            "Epoch  900 NLL:  0.5504425168037415\n",
            "torch.Size([157, 2])\n",
            "Epoch  1000 NLL:  0.547206699848175\n",
            "torch.Size([157, 2])\n",
            "Epoch  1100 NLL:  0.555724024772644\n",
            "torch.Size([157, 2])\n",
            "Epoch  1200 NLL:  0.5667799711227417\n",
            "torch.Size([157, 2])\n",
            "Epoch  1300 NLL:  0.5375229120254517\n",
            "torch.Size([157, 2])\n",
            "Epoch  1400 NLL:  0.542266309261322\n",
            "torch.Size([157, 2])\n",
            "Epoch  1500 NLL:  0.5530688166618347\n",
            "torch.Size([157, 2])\n",
            "Epoch  1600 NLL:  0.5238156318664551\n",
            "torch.Size([157, 2])\n",
            "Epoch  1700 NLL:  0.5355031490325928\n",
            "torch.Size([157, 2])\n",
            "Epoch  1800 NLL:  0.5271199345588684\n",
            "torch.Size([157, 2])\n",
            "Epoch  1900 NLL:  0.5296056866645813\n",
            "torch.Size([157, 2])\n",
            "Epoch  2000 NLL:  0.5484130382537842\n",
            "torch.Size([157, 2])\n",
            "Epoch  2100 NLL:  0.5681110620498657\n",
            "torch.Size([157, 2])\n",
            "Epoch  2200 NLL:  0.5618969202041626\n",
            "torch.Size([157, 2])\n",
            "Epoch  2300 NLL:  0.5536914467811584\n",
            "torch.Size([157, 2])\n",
            "Epoch  2400 NLL:  0.5532171726226807\n",
            "torch.Size([157, 2])\n",
            "Epoch  2500 NLL:  0.551297128200531\n",
            "torch.Size([157, 2])\n",
            "Epoch  2600 NLL:  0.551715612411499\n",
            "torch.Size([157, 2])\n",
            "Epoch  2700 NLL:  0.5514522194862366\n",
            "torch.Size([157, 2])\n",
            "Epoch  2800 NLL:  0.5470337271690369\n",
            "torch.Size([157, 2])\n",
            "Epoch  2900 NLL:  0.5484986305236816\n",
            "torch.Size([157, 2])\n",
            "Epoch  3000 NLL:  0.5443083047866821\n",
            "torch.Size([157, 2])\n"
          ],
          "name": "stdout"
        }
      ]
    },
    {
      "cell_type": "code",
      "metadata": {
        "id": "P_XrZCjC6tQ8"
      },
      "source": [
        "a = np.arange(3001)"
      ],
      "execution_count": null,
      "outputs": []
    },
    {
      "cell_type": "code",
      "metadata": {
        "id": "3LVRBazFDA5q",
        "colab": {
          "base_uri": "https://localhost:8080/",
          "height": 34
        },
        "outputId": "d59b9c97-ab89-4f5a-a204-0ab733b96b9f"
      },
      "source": [
        "a.shape"
      ],
      "execution_count": null,
      "outputs": [
        {
          "output_type": "execute_result",
          "data": {
            "text/plain": [
              "(3001,)"
            ]
          },
          "metadata": {
            "tags": []
          },
          "execution_count": 34
        }
      ]
    },
    {
      "cell_type": "code",
      "metadata": {
        "id": "147ZyQ6aEswL",
        "colab": {
          "base_uri": "https://localhost:8080/",
          "height": 295
        },
        "outputId": "ce211442-5d4e-40c8-b5b3-2babda45725a"
      },
      "source": [
        "plt.plot(a,hist)\n",
        "plt.title(\"Loss\")\n",
        "plt.xlabel(\"Epoch\")\n",
        "plt.ylabel(\"Loss\")\n",
        "plt.savefig('foo.png')"
      ],
      "execution_count": null,
      "outputs": [
        {
          "output_type": "display_data",
          "data": {
            "image/png": "[encoded data removed]",
            "text/plain": [
              "<Figure size 432x288 with 1 Axes>"
            ]
          },
          "metadata": {
            "tags": []
          }
        }
      ]
    },
    {
      "cell_type": "code",
      "metadata": {
        "id": "ecXPP6NjFY_B",
        "colab": {
          "base_uri": "https://localhost:8080/",
          "height": 71
        },
        "outputId": "4e83c134-e7bd-4309-818f-6960b112c107"
      },
      "source": [
        "# Test the model\n",
        "model.eval()\n",
        "with torch.no_grad():\n",
        "    correct = 0\n",
        "    total = 0\n",
        "    y_t_pred = model(x_test)\n",
        "    _, predicted = torch.max(y_t_pred.data, 1)\n",
        "    for i in range(157):\n",
        "      if predicted[i] == y_test[i]:\n",
        "        correct = correct+1\n",
        "      total = total+1\n",
        "    print('Test Accuracy of the model on the 157 test data: {} %'.format(100 * correct / total))"
      ],
      "execution_count": null,
      "outputs": [
        {
          "output_type": "stream",
          "text": [
            "Test Accuracy of the model on the 157 test data: 50.955414012738856 %\n"
          ],
          "name": "stdout"
        },
        {
          "output_type": "stream",
          "text": [
            "/usr/local/lib/python3.6/dist-packages/ipykernel_launcher.py:17: UserWarning: Implicit dimension choice for log_softmax has been deprecated. Change the call to include dim=X as an argument.\n"
          ],
          "name": "stderr"
        }
      ]
    },
    {
      "cell_type": "code",
      "metadata": {
        "id": "meYd1VvkU-o9"
      },
      "source": [
        ""
      ],
      "execution_count": null,
      "outputs": []
    }
  ]
}